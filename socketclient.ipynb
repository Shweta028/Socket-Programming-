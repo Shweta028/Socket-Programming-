{
 "cells": [
  {
   "cell_type": "code",
   "execution_count": null,
   "metadata": {},
   "outputs": [
    {
     "name": "stdout",
     "output_type": "stream",
     "text": [
      "Enter cordinates separated by comma3,4\n",
      "Enter cordinates separated by comma2,5\n",
      "Enter cordinates separated by comma1,4\n",
      "Enter cordinates separated by comma\n"
     ]
    }
   ],
   "source": [
    "#!usr/bin/python\n",
    "\n",
    "# On sender side\n",
    "\n",
    "import socket\n",
    "\n",
    "# giving IP version, type of Protocol\n",
    "\n",
    "s=socket.socket(socket.AF_INET,socket.SOCK_DGRAM)\n",
    "\n",
    "while True:\n",
    "    v=raw_input(\"Enter cordinates separated by comma\")\n",
    "    s.sendto(v,(\"192.168.43.19\",5000))\n",
    "\n",
    "  \n",
    " "
   ]
  },
  {
   "cell_type": "code",
   "execution_count": null,
   "metadata": {},
   "outputs": [],
   "source": []
  }
 ],
 "metadata": {
  "kernelspec": {
   "display_name": "Python 2",
   "language": "python",
   "name": "python2"
  },
  "language_info": {
   "codemirror_mode": {
    "name": "ipython",
    "version": 2
   },
   "file_extension": ".py",
   "mimetype": "text/x-python",
   "name": "python",
   "nbconvert_exporter": "python",
   "pygments_lexer": "ipython2",
   "version": "2.7.12"
  }
 },
 "nbformat": 4,
 "nbformat_minor": 2
}
